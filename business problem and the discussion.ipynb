{
    "nbformat_minor": 1, 
    "cells": [
        {
            "source": "# Business Problem\n", 
            "cell_type": "markdown", 
            "metadata": {
                "collapsed": true
            }
        }, 
        {
            "source": "Problem: Many times, this very important to know about the neighbourhood of two cities for the traveller coming from different country.\n\nThe local people might be knowing very well what are the key differences but the person coming from different country will be interested to explore the places before to Chicago and Toronto.\nIn this capstone project, the idea is to explore theses two major cities, cluster and compare the neighbourhood by analysing  various venue categories.\n\n\n\nData sources: Most of the data will be taken from the below sources:\n1.\tWikipedia\n2.\tGeoJSON\n3.\tFoursquare data\n\nTargeted Stakeholders and audience: \nThere are various stakeholders and audience for this project as below.\n1.\tInternational travellers\n2.\tlocal people \n3.\tBusiness people , who want to start a new venture\n\n\nPlan: \nStep 1: Scrape relevant web pages to define neighborhoods (e.g. postal code) \nStep 2: Clean the data Transform data\nStep 3: Merge with records \nStep 4: Get ppropriate GeoJSON \nStep 5: Visualize and compare some data \n", 
            "cell_type": "markdown", 
            "metadata": {}
        }, 
        {
            "source": "", 
            "cell_type": "code", 
            "metadata": {}, 
            "outputs": [], 
            "execution_count": null
        }
    ], 
    "metadata": {
        "kernelspec": {
            "display_name": "Python 3.5", 
            "name": "python3", 
            "language": "python"
        }, 
        "language_info": {
            "mimetype": "text/x-python", 
            "nbconvert_exporter": "python", 
            "version": "3.5.5", 
            "name": "python", 
            "file_extension": ".py", 
            "pygments_lexer": "ipython3", 
            "codemirror_mode": {
                "version": 3, 
                "name": "ipython"
            }
        }
    }, 
    "nbformat": 4
}