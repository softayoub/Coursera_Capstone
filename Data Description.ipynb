{
    "nbformat_minor": 1, 
    "cells": [
        {
            "source": "# Data Description", 
            "cell_type": "markdown", 
            "metadata": {
                "collapsed": true
            }
        }, 
        {
            "source": "## Data Sources", 
            "cell_type": "markdown", 
            "metadata": {}
        }, 
        {
            "source": "In this project we will use below data soruces:\n    1. Wikipedia\n    2. GeoJSON\n    3. Foursquare data.\n    \nThe ZIP/postal codes and lat/lng coordinates will be used to define neighborhoods for Chicago and Toronto, then a similiarty analysis will be perfomr with the help of Foursquare \n\n\n", 
            "cell_type": "markdown", 
            "metadata": {}
        }, 
        {
            "source": "## Approach to solve the problem\n", 
            "cell_type": "markdown", 
            "metadata": {}
        }, 
        {
            "source": "1. Scrape relevant web pages to define neighborhoods using zip/postal code)\n2. Clean the data\n3, Transform data and merge with records\n4. Find appropriate GeoJSON\n5. Visualize and compare some data\n\n", 
            "cell_type": "markdown", 
            "metadata": {}
        }, 
        {
            "source": "## Statisical Evaluation", 
            "cell_type": "markdown", 
            "metadata": {}
        }, 
        {
            "source": "We will use below evaluation methods \n1. K-mean\n2. clustering", 
            "cell_type": "markdown", 
            "metadata": {}
        }, 
        {
            "source": "", 
            "cell_type": "code", 
            "metadata": {}, 
            "outputs": [], 
            "execution_count": null
        }, 
        {
            "source": "", 
            "cell_type": "code", 
            "metadata": {}, 
            "outputs": [], 
            "execution_count": null
        }
    ], 
    "metadata": {
        "kernelspec": {
            "display_name": "Python 3.5", 
            "name": "python3", 
            "language": "python"
        }, 
        "language_info": {
            "mimetype": "text/x-python", 
            "nbconvert_exporter": "python", 
            "version": "3.5.5", 
            "name": "python", 
            "pygments_lexer": "ipython3", 
            "file_extension": ".py", 
            "codemirror_mode": {
                "version": 3, 
                "name": "ipython"
            }
        }
    }, 
    "nbformat": 4
}